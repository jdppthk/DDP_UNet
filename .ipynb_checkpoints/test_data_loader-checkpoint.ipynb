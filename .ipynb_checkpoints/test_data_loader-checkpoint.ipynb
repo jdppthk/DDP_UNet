{
 "cells": [
  {
   "cell_type": "code",
   "execution_count": 10,
   "metadata": {},
   "outputs": [],
   "source": [
    "import torch\n",
    "import numpy as np\n",
    "from torch.utils.data import DataLoader, Dataset, DistributedSampler\n",
    "from torch import Tensor\n",
    "import h5py\n",
    "\n",
    "\n",
    "def worker_init(wrk_id):\n",
    "    np.random.seed(torch.utils.data.get_worker_info().seed%(2**32 - 1))\n",
    "\n",
    "\n",
    "def get_data_loader_distributed():\n",
    "    fname = 'rbcTrainingData.h5'#params.data_path\n",
    "    with h5py.File(fname, 'r') as f:\n",
    "        Fields = f['input_data']['fields'][:,:,:,:].astype(np.float32)\n",
    "        Residuals = f['target_data']['residual_tensor'][:,:,:,:].astype(np.float32)\n",
    "\n",
    "    dataset = GetDataset(Fields, Residuals)\n",
    "\n",
    "    train_loader = DataLoader(dataset,\n",
    "                              batch_size= 1, \n",
    "                              num_workers=1,\n",
    "                              worker_init_fn=worker_init,\n",
    "                              pin_memory=torch.cuda.is_available())\n",
    "    return train_loader\n",
    "\n",
    "\n",
    "\n",
    "class GetDataset(Dataset):\n",
    "    \"\"\"Random crops\"\"\"\n",
    "    def __init__(self, Fields, Residuals):\n",
    "        self.Fields = Fields\n",
    "        self.Residuals = Residuals\n",
    "        self.length = Residuals.shape[0]\n",
    "        self.size = 128 #params.data_size\n",
    "        self.Nsamples = Residuals.shape[0]\n",
    "        self.rescale = Rescaler()\n",
    "\n",
    "    def __len__(self):\n",
    "        return self.Nsamples\n",
    "\n",
    "    def __getitem__(self, idx):\n",
    "        inp = self.Fields[idx,:,:,:]\n",
    "        tar = self.Residuals[idx,:,:,:]\n",
    "        inp = np.swapaxes(inp, -1,1)\n",
    "        tar = np.swapaxes(tar, -1,1)\n",
    "        return torch.as_tensor(inp), torch.as_tensor(tar)\n",
    "\n",
    "class Rescaler(object):\n",
    "\n",
    "    def __init__(self):\n",
    "        \n",
    "\n",
    "    def __call__(self, x):\n",
    "        return self.rot[rand](x)\n"
   ]
  },
  {
   "cell_type": "code",
   "execution_count": 11,
   "metadata": {},
   "outputs": [],
   "source": [
    "train_loader = get_data_loader_distributed()"
   ]
  },
  {
   "cell_type": "code",
   "execution_count": null,
   "metadata": {},
   "outputs": [],
   "source": []
  }
 ],
 "metadata": {
  "kernelspec": {
   "display_name": "pytorch-v1.2.0-gpu",
   "language": "python",
   "name": "pytorch-v1.2.0-gpu"
  },
  "language_info": {
   "codemirror_mode": {
    "name": "ipython",
    "version": 3
   },
   "file_extension": ".py",
   "mimetype": "text/x-python",
   "name": "python",
   "nbconvert_exporter": "python",
   "pygments_lexer": "ipython3",
   "version": "3.6.9"
  }
 },
 "nbformat": 4,
 "nbformat_minor": 4
}
